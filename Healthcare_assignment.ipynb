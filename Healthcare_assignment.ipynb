{
 "cells": [
  {
   "cell_type": "code",
   "execution_count": 1,
   "metadata": {
    "colab": {
     "base_uri": "https://localhost:8080/"
    },
    "id": "T4hxafMCE1nn",
    "outputId": "444c3ae5-29cc-48e9-e37b-1bbe04c56399"
   },
   "outputs": [
    {
     "name": "stdout",
     "output_type": "stream",
     "text": [
      "Requirement already satisfied: pycrf in /Users/c0m0mbv/anaconda3/lib/python3.11/site-packages (0.0.1)\n",
      "Requirement already satisfied: sklearn-crfsuite in /Users/c0m0mbv/anaconda3/lib/python3.11/site-packages (0.3.6)\n",
      "Requirement already satisfied: python-crfsuite>=0.8.3 in /Users/c0m0mbv/anaconda3/lib/python3.11/site-packages (from sklearn-crfsuite) (0.9.10)\n",
      "Requirement already satisfied: six in /Users/c0m0mbv/anaconda3/lib/python3.11/site-packages (from sklearn-crfsuite) (1.16.0)\n",
      "Requirement already satisfied: tabulate in /Users/c0m0mbv/anaconda3/lib/python3.11/site-packages (from sklearn-crfsuite) (0.8.10)\n",
      "Requirement already satisfied: tqdm>=2.0 in /Users/c0m0mbv/anaconda3/lib/python3.11/site-packages (from sklearn-crfsuite) (4.65.0)\n"
     ]
    }
   ],
   "source": [
    "# Installing and importing relevant libraries\n",
    "!pip install pycrf\n",
    "!pip install sklearn-crfsuite\n",
    "\n",
    "import spacy\n",
    "import sklearn_crfsuite\n",
    "from sklearn_crfsuite import metrics\n",
    "import pandas as pd\n",
    "\n",
    "model = spacy.load(\"en_core_web_sm\")"
   ]
  },
  {
   "cell_type": "markdown",
   "metadata": {
    "id": "bE9Hwb3AUHwG"
   },
   "source": [
    "## Data Preprocessing\n"
   ]
  },
  {
   "cell_type": "code",
   "execution_count": 2,
   "metadata": {
    "id": "bz6czVx9R6WJ"
   },
   "outputs": [],
   "source": [
    "# Reading the train and test sentences and labels\n",
    "with open('train_sent', 'r') as train_sent_file:\n",
    "  train_words = train_sent_file.readlines()\n",
    "\n",
    "with open('train_label', 'r') as train_labels_file:\n",
    "  train_labels_by_word = train_labels_file.readlines()\n",
    "\n",
    "with open('test_sent', 'r') as test_sent_file:\n",
    "  test_words = test_sent_file.readlines()\n",
    "\n",
    "with open('test_label', 'r') as test_labels_file:\n",
    "  test_labels_by_word = test_labels_file.readlines()"
   ]
  },
  {
   "cell_type": "code",
   "execution_count": 3,
   "metadata": {
    "colab": {
     "base_uri": "https://localhost:8080/"
    },
    "id": "TE31q8yxVdU-",
    "outputId": "9a017ce8-ad90-4f8a-d9e4-2a691a777ef8"
   },
   "outputs": [
    {
     "name": "stdout",
     "output_type": "stream",
     "text": [
      "Count of tokens in training set\n",
      " No. of words:  48501 \n",
      "No. of labels:  48501\n",
      "\n",
      "\n",
      "Count of tokens in test set\n",
      " No. of words:  19674 \n",
      "No. of labels:  19674\n"
     ]
    }
   ],
   "source": [
    "# Sanity check to see that the number of tokens and no. of corresponding labels match.\n",
    "print(\"Count of tokens in training set\\n\",\"No. of words: \",len(train_words),\"\\nNo. of labels: \",len(train_labels_by_word))\n",
    "print(\"\\n\\nCount of tokens in test set\\n\",\"No. of words: \",len(test_words),\"\\nNo. of labels: \",len(test_labels_by_word))"
   ]
  },
  {
   "cell_type": "code",
   "execution_count": 4,
   "metadata": {
    "id": "Af1c_URKw2tB"
   },
   "outputs": [],
   "source": [
    "# Function to combine tokens belonging to the same sentence. Sentences are separated by \"\\n\" in the dataset.\n",
    "def convert_to_sentences(dataset):\n",
    "    sent_list = []\n",
    "    sent = \"\"\n",
    "    for entity in dataset:\n",
    "        if entity != '\\n':\n",
    "            sent = sent + entity[:-1] + \" \"       # Adding word/label to current sentence / sequence of labels \n",
    "        else: \n",
    "            sent_list.append(sent[:-1])           # Getting rid of the space added after the last entity.\n",
    "            sent = \"\"\n",
    "    return sent_list"
   ]
  },
  {
   "cell_type": "code",
   "execution_count": 5,
   "metadata": {
    "id": "NAuhPDDtwCL7"
   },
   "outputs": [],
   "source": [
    "# Converting tokens to sentences and individual labels to sequences of corresponding labels.\n",
    "train_sentences = convert_to_sentences(train_words)\n",
    "train_labels = convert_to_sentences(train_labels_by_word)\n",
    "test_sentences = convert_to_sentences(test_words)\n",
    "test_labels = convert_to_sentences(test_labels_by_word)"
   ]
  },
  {
   "cell_type": "code",
   "execution_count": 6,
   "metadata": {
    "colab": {
     "base_uri": "https://localhost:8080/"
    },
    "id": "BXNCaBbpvsHI",
    "outputId": "61eb171a-3139-467a-c1a4-bcf67fd8bc16"
   },
   "outputs": [
    {
     "name": "stdout",
     "output_type": "stream",
     "text": [
      "First five training sentences and their labels:\n",
      "\n",
      "All live births > or = 23 weeks at the University of Vermont in 1995 ( n = 2395 ) were retrospectively analyzed for delivery route , indication for cesarean , gestational age , parity , and practice group ( to reflect risk status ) \n",
      " O O O O O O O O O O O O O O O O O O O O O O O O O O O O O O O O O O O O O O O O O O O O O \n",
      "\n",
      "The total cesarean rate was 14.4 % ( 344 of 2395 ) , and the primary rate was 11.4 % ( 244 of 2144 ) \n",
      " O O O O O O O O O O O O O O O O O O O O O O O O O \n",
      "\n",
      "Abnormal presentation was the most common indication ( 25.6 % , 88 of 344 ) \n",
      " O O O O O O O O O O O O O O O \n",
      "\n",
      "The `` corrected '' cesarean rate ( maternal-fetal medicine and transported patients excluded ) was 12.4 % ( 273 of 2194 ) , and the `` corrected '' primary rate was 9.6 % ( 190 of 1975 ) \n",
      " O O O O O O O O O O O O O O O O O O O O O O O O O O O O O O O O O O O O O O \n",
      "\n",
      "Arrest of dilation was the most common indication in both `` corrected '' subgroups ( 23.4 and 24.6 % , respectively ) \n",
      " O O O O O O O O O O O O O O O O O O O O O O \n",
      "\n"
     ]
    }
   ],
   "source": [
    "print(\"First five training sentences and their labels:\\n\")\n",
    "for i in range(5):\n",
    "    print(train_sentences[i],\"\\n\",train_labels[i],\"\\n\")"
   ]
  },
  {
   "cell_type": "code",
   "execution_count": 7,
   "metadata": {
    "colab": {
     "base_uri": "https://localhost:8080/"
    },
    "id": "iCVzhskGwhyh",
    "outputId": "614057db-9a8f-4e76-d478-012b1974c0db"
   },
   "outputs": [
    {
     "name": "stdout",
     "output_type": "stream",
     "text": [
      "First five test sentences and their labels:\n",
      "\n",
      "Furthermore , when all deliveries were analyzed , regardless of risk status but limited to gestational age > or = 36 weeks , the rates did not change ( 12.6 % , 280 of 2214 ; primary 9.2 % , 183 of 1994 ) \n",
      " O O O O O O O O O O O O O O O O O O O O O O O O O O O O O O O O O O O O O O O O O O O O \n",
      "\n",
      "As the ambient temperature increases , there is an increase in insensible fluid loss and the potential for dehydration \n",
      " O O O O O O O O O O O O O O O O O O O \n",
      "\n",
      "The daily high temperature ranged from 71 to 104 degrees F and AFI values ranged from 1.7 to 24.7 cm during the study period \n",
      " O O O O O O O O O O O O O O O O O O O O O O O O \n",
      "\n",
      "There was a significant correlation between the 2- , 3- , and 4-day mean temperature and AFI , with the 4-day mean being the most significant ( r = 0.31 , p & # 60 ; 0.001 ) \n",
      " O O O O O O O O O O O O O O O O O O O O O O O O O O O O O O O O O O O O O O \n",
      "\n",
      "Fluctuations in ambient temperature are inversely correlated to changes in AFI \n",
      " O O O O O O O O O O O \n",
      "\n"
     ]
    }
   ],
   "source": [
    "print(\"First five test sentences and their labels:\\n\")\n",
    "for i in range(5):\n",
    "    print(test_sentences[i],\"\\n\",test_labels[i],\"\\n\")"
   ]
  },
  {
   "cell_type": "markdown",
   "metadata": {
    "id": "urCxIOBTMBwG"
   },
   "source": [
    "### Count the number of sentences in the processed train and test dataset "
   ]
  },
  {
   "cell_type": "code",
   "execution_count": 8,
   "metadata": {
    "colab": {
     "base_uri": "https://localhost:8080/"
    },
    "id": "zwa18H_IMFXV",
    "outputId": "2c554234-17a7-4317-b19e-e161fbef43ad"
   },
   "outputs": [
    {
     "name": "stdout",
     "output_type": "stream",
     "text": [
      "Number of sentences in the train dataset: 2599\n",
      "Number of sentences in the test dataset: 1056\n"
     ]
    }
   ],
   "source": [
    "print(\"Number of sentences in the train dataset: {}\".format(len(train_sentences)))\n",
    "print(\"Number of sentences in the test dataset: {}\".format(len(test_sentences)))"
   ]
  },
  {
   "cell_type": "markdown",
   "metadata": {
    "id": "Jjg2DK7hLcO_"
   },
   "source": [
    "### Count the number of lines of labels in the processed train and test dataset."
   ]
  },
  {
   "cell_type": "code",
   "execution_count": 9,
   "metadata": {
    "colab": {
     "base_uri": "https://localhost:8080/"
    },
    "id": "unXoD2bWLPZD",
    "outputId": "91436f71-f88a-45f0-eb0b-40f675631027"
   },
   "outputs": [
    {
     "name": "stdout",
     "output_type": "stream",
     "text": [
      "Number of lines of labels in the train dataset: 2599\n",
      "Number of lines of labels in the test dataset: 1056\n"
     ]
    }
   ],
   "source": [
    "print(\"Number of lines of labels in the train dataset: {}\".format(len(train_labels)))\n",
    "print(\"Number of lines of labels in the test dataset: {}\".format(len(test_labels)))"
   ]
  },
  {
   "cell_type": "markdown",
   "metadata": {
    "id": "r9Hy2tECbd9a"
   },
   "source": [
    "## Concept Identification\n",
    "\n"
   ]
  },
  {
   "cell_type": "code",
   "execution_count": 10,
   "metadata": {
    "colab": {
     "base_uri": "https://localhost:8080/"
    },
    "id": "7w8nJSPlZqjw",
    "outputId": "5e29d019-7704-4c20-882a-0d1980a3c2b5"
   },
   "outputs": [
    {
     "name": "stdout",
     "output_type": "stream",
     "text": [
      "Number of sentences in combined dataset (training + test): 3655\n"
     ]
    }
   ],
   "source": [
    "# Creating a combined dataset from training and test sentences, since this is an Exploratory analysis.\n",
    "combined = train_sentences + test_sentences\n",
    "print(\"Number of sentences in combined dataset (training + test): {}\".format(len(combined)))"
   ]
  },
  {
   "cell_type": "code",
   "execution_count": 11,
   "metadata": {
    "colab": {
     "base_uri": "https://localhost:8080/"
    },
    "id": "FRiUmCgLD6MD",
    "outputId": "c7eb082f-195a-439b-a35f-116a0c516156"
   },
   "outputs": [
    {
     "name": "stdout",
     "output_type": "stream",
     "text": [
      "No. of tokens in combined dataset with PoS tag of 'NOUN' or 'PROPN': 24373\n"
     ]
    }
   ],
   "source": [
    "# Creating a list of tokens which have PoS tag of 'NOUN' or 'PROPN'\n",
    "noun_propn = []         # Initiating list for nouns and proper nouns\n",
    "pos_tag = []            # initiating list for corresponding PoS tags.\n",
    "for sent in combined:\n",
    "    for token in model(sent):\n",
    "        if token.pos_ in ['NOUN', 'PROPN']:\n",
    "           noun_propn.append(token.text)\n",
    "           pos_tag.append(token.pos_)\n",
    "print(\"No. of tokens in combined dataset with PoS tag of 'NOUN' or 'PROPN': {}\".format(len(noun_propn)))"
   ]
  },
  {
   "cell_type": "code",
   "execution_count": 12,
   "metadata": {
    "colab": {
     "base_uri": "https://localhost:8080/"
    },
    "id": "NBGzE4-10sE_",
    "outputId": "553b652e-0276-40d2-e763-1d468c3fb15f"
   },
   "outputs": [
    {
     "name": "stdout",
     "output_type": "stream",
     "text": [
      "24373\n"
     ]
    }
   ],
   "source": [
    "print(len(pos_tag))"
   ]
  },
  {
   "cell_type": "markdown",
   "metadata": {
    "id": "-SQG8wRxMo6A"
   },
   "source": [
    "### Print the top 25 most common tokens with NOUN or PROPN PoS tags"
   ]
  },
  {
   "cell_type": "code",
   "execution_count": 13,
   "metadata": {
    "colab": {
     "base_uri": "https://localhost:8080/"
    },
    "id": "DhDY4jjoawTa",
    "outputId": "101683a9-ac14-4fba-e661-a3ce8e6b7c07"
   },
   "outputs": [
    {
     "name": "stdout",
     "output_type": "stream",
     "text": [
      "Top 25 comon tokens with PoS tag of 'NOUN' or 'PROPN' \n",
      "\n",
      "patients        492\n",
      "treatment       281\n",
      "%               247\n",
      "cancer          200\n",
      "therapy         175\n",
      "study           154\n",
      "disease         142\n",
      "cell            140\n",
      "lung            116\n",
      "group            94\n",
      "chemotherapy     88\n",
      "gene             87\n",
      "effects          85\n",
      "results          79\n",
      "women            77\n",
      "use              74\n",
      "TO_SEE           74\n",
      "risk             71\n",
      "surgery          71\n",
      "cases            71\n",
      "analysis         70\n",
      "rate             67\n",
      "response         66\n",
      "survival         65\n",
      "children         64\n",
      "Name: NOUN_PROPN, dtype: int64\n"
     ]
    }
   ],
   "source": [
    "noun_pos = pd.DataFrame({\"NOUN_PROPN\":noun_propn,\"POS_tag\":pos_tag})\n",
    "print(\"Top 25 comon tokens with PoS tag of 'NOUN' or 'PROPN' \\n\")\n",
    "print(noun_pos[\"NOUN_PROPN\"].value_counts().head(25))"
   ]
  },
  {
   "cell_type": "markdown",
   "metadata": {
    "id": "bnfAlKgA5fd4"
   },
   "source": [
    "## Defining features for CRF\n",
    "\n",
    "\n",
    "\n"
   ]
  },
  {
   "cell_type": "code",
   "execution_count": 14,
   "metadata": {
    "colab": {
     "base_uri": "https://localhost:8080/"
    },
    "id": "PyIZ4M_5HOOh",
    "outputId": "58b0a177-4a10-4146-dd9a-e74c6b0260c1"
   },
   "outputs": [
    {
     "name": "stdout",
     "output_type": "stream",
     "text": [
      "The total cesarean rate was 14.4 % ( 344 of 2395 ) , and the primary rate was 11.4 % ( 244 of 2144 )\n",
      "\n",
      "PoS tag of word in isolation\n",
      "Word: cesarean -- VERB \n",
      "\n",
      "PoS tag of all words in sentence with context in tact.\n",
      "The -- DET\n",
      "total -- ADJ\n",
      "cesarean -- ADJ\n",
      "rate -- NOUN\n",
      "was -- AUX\n",
      "14.4 -- NUM\n",
      "% -- NOUN\n",
      "( -- PUNCT\n",
      "344 -- NUM\n",
      "of -- ADP\n",
      "2395 -- NUM\n",
      ") -- PUNCT\n",
      ", -- PUNCT\n",
      "and -- CCONJ\n",
      "the -- DET\n",
      "primary -- ADJ\n",
      "rate -- NOUN\n",
      "was -- AUX\n",
      "11.4 -- NUM\n",
      "% -- NOUN\n",
      "( -- PUNCT\n",
      "244 -- NUM\n",
      "of -- ADP\n",
      "2144 -- NUM\n",
      ") -- PUNCT\n",
      "\n",
      "Result of modified workflow to obtain PoS tag of word at a specific position while keeping context within sentence in-tact.\n",
      "Word: cesarean POSTAG: ADJ\n"
     ]
    }
   ],
   "source": [
    "# Analysis of PoS tags - Independent assignment for words vs Contextual assignment in a sentence.\n",
    "sentence = train_sentences[1]   \n",
    "sent_list = sentence.split()      # Splitting the sentence into its constituent words.\n",
    "position = 2                      # Choosing position of word within sentence. Index starts at 0.\n",
    "\n",
    "word = sent_list[position]        # Extracting word for PoS tag analysis.\n",
    "\n",
    "print(sentence)\n",
    "\n",
    "# Independent assignment of PoS tag (No contextual info)\n",
    "print(\"\\nPoS tag of word in isolation\\nWord:\",word,\"--\",model(word)[0].pos_,\"\\n\")\n",
    "\n",
    "# Contextual assignment of PoS tag based on other words in the sentence.\n",
    "print(\"PoS tag of all words in sentence with context in tact.\")\n",
    "for token in model(sentence):\n",
    "    print(token.text, \"--\", token.pos_)\n",
    "\n",
    "# Modified workflow to obtain PoS tag of specific word in question while keeping sentence context in tact.\n",
    "print(\"\\nResult of modified workflow to obtain PoS tag of word at a specific position while keeping context within sentence in-tact.\")\n",
    "cnt = 0                           # Count of the word position within sentence.\n",
    "for token in model(sentence):\n",
    "      postag = token.pos_\n",
    "      if (token.text == word) and (cnt == position):\n",
    "          break\n",
    "      cnt += 1\n",
    "print(\"Word:\", word,\"POSTAG:\",postag)"
   ]
  },
  {
   "cell_type": "markdown",
   "metadata": {
    "id": "GTb8kwsNPNwu"
   },
   "source": [
    "#### As we can see in the analysis above, the PoS tag of the word \"cesarean\" is not captured correctly if the word is considered individually. However, if the word is considered as a part of the sentence, then it is captured correctly. Defining a function below to execute this."
   ]
  },
  {
   "cell_type": "code",
   "execution_count": 15,
   "metadata": {
    "id": "-V9g106vdM2S"
   },
   "outputs": [],
   "source": [
    "# Function to obtain contextual PoS tagger.\n",
    "def contextual_pos_tagger(sent_list,position):\n",
    "    '''Obtaining PoS tag for individual word with sentence context in-tact. \n",
    "       If the PoS tag is obtained for a word individually, it may not capture the context of use in the sentence and may assign the incorrect PoS tag.'''\n",
    "\n",
    "    sentence = \" \".join(sent_list)          # Sentence needs to be in string format to process it with spacy model. List of words won't work.\n",
    "    posit = 0                               # Initialising variable to record position of word in joined sentence to compare with the position of the word under considertion.\n",
    "    for token in model(sentence):\n",
    "        postag = token.pos_\n",
    "        if (token.text == word) and (posit == position):\n",
    "            break\n",
    "        posit += 1\n",
    "    return postag"
   ]
  },
  {
   "cell_type": "code",
   "execution_count": 16,
   "metadata": {
    "id": "aS6P1Gog3JMf"
   },
   "outputs": [],
   "source": [
    "# Define the features to get the feature values for one word.\n",
    "def getFeaturesForOneWord(sent_list, position):\n",
    "  word = sent_list[position]\n",
    "    \n",
    "  # Obtaining features for current word\n",
    "  features = [\n",
    "    'word.lower=' + word.lower(),                                   # serves as word id\n",
    "    'word.postag=' + contextual_pos_tagger(sent_list, position),    # PoS tag of current word\n",
    "    'word[-3:]=' + word[-3:],                                       # last three characters\n",
    "    'word[-2:]=' + word[-2:],                                       # last two characters\n",
    "    'word.isupper=%s' % word.isupper(),                             # is the word in all uppercase\n",
    "    'word.isdigit=%s' % word.isdigit(),                             # is the word a number\n",
    "    'words.startsWithCapital=%s' % word[0].isupper()                # is the word starting with a capital letter\n",
    "  ]\n",
    " \n",
    "  if(position > 0):\n",
    "    prev_word = sent_list[position-1]\n",
    "    features.extend([\n",
    "    'prev_word.lower=' + prev_word.lower(),                               # previous word\n",
    "    'prev_word.postag=' + contextual_pos_tagger(sent_list, position - 1), # PoS tag of previous word\n",
    "    'prev_word.isupper=%s' % prev_word.isupper(),                         # is the previous word in all uppercase\n",
    "    'prev_word.isdigit=%s' % prev_word.isdigit(),                         # is the previous word a number\n",
    "    'prev_words.startsWithCapital=%s' % prev_word[0].isupper()            # is the previous word starting with a capital letter\n",
    "  ])\n",
    "  else:\n",
    "    features.append('BEG')                                                # feature to track begin of sentence \n",
    " \n",
    "  if(position == len(sent_list)-1):\n",
    "    features.append('END')                                                # feature to track end of sentence\n",
    " \n",
    "  return features"
   ]
  },
  {
   "cell_type": "markdown",
   "metadata": {
    "id": "haBEOsZGKhb9"
   },
   "source": [
    "## Getting the features"
   ]
  },
  {
   "cell_type": "markdown",
   "metadata": {
    "id": "Fwb8YUdlNcG1"
   },
   "source": [
    "### Write a code/function to get the features for a sentence"
   ]
  },
  {
   "cell_type": "code",
   "execution_count": 17,
   "metadata": {
    "id": "emBIm5uK7vtK"
   },
   "outputs": [],
   "source": [
    "# Write a code to get features for a sentence.\n",
    "def getFeaturesForOneSentence(sentence):\n",
    "  sentence_list = sentence.split()\n",
    "  return [getFeaturesForOneWord(sentence_list, position) for position in range(len(sentence_list))]"
   ]
  },
  {
   "cell_type": "code",
   "execution_count": 18,
   "metadata": {
    "colab": {
     "base_uri": "https://localhost:8080/"
    },
    "id": "7oQEVkxZVsw8",
    "outputId": "4f55d7c5-f56b-40ad-d6b3-488052d6a3be"
   },
   "outputs": [
    {
     "name": "stdout",
     "output_type": "stream",
     "text": [
      "Cesarean rates at tertiary care hospitals should be compared with rates at community hospitals only after correcting for dissimilar patient groups or gestational age\n"
     ]
    },
    {
     "data": {
      "text/plain": [
       "['word.lower=cesarean',\n",
       " 'word.postag=NOUN',\n",
       " 'word[-3:]=ean',\n",
       " 'word[-2:]=an',\n",
       " 'word.isupper=False',\n",
       " 'word.isdigit=False',\n",
       " 'words.startsWithCapital=True',\n",
       " 'BEG']"
      ]
     },
     "execution_count": 18,
     "metadata": {},
     "output_type": "execute_result"
    }
   ],
   "source": [
    "# Checking feature extraction\n",
    "example_sentence = train_sentences[5]\n",
    "print(example_sentence)\n",
    "\n",
    "features = getFeaturesForOneSentence(example_sentence)\n",
    "features[0]"
   ]
  },
  {
   "cell_type": "code",
   "execution_count": 19,
   "metadata": {
    "colab": {
     "base_uri": "https://localhost:8080/"
    },
    "id": "kw2qHxSUWYe7",
    "outputId": "ba2eff32-85d7-47b4-bae6-76926ee43c95"
   },
   "outputs": [
    {
     "data": {
      "text/plain": [
       "['word.lower=care',\n",
       " 'word.postag=NOUN',\n",
       " 'word[-3:]=are',\n",
       " 'word[-2:]=re',\n",
       " 'word.isupper=False',\n",
       " 'word.isdigit=False',\n",
       " 'words.startsWithCapital=False',\n",
       " 'prev_word.lower=tertiary',\n",
       " 'prev_word.postag=NOUN',\n",
       " 'prev_word.isupper=False',\n",
       " 'prev_word.isdigit=False',\n",
       " 'prev_words.startsWithCapital=False']"
      ]
     },
     "execution_count": 19,
     "metadata": {},
     "output_type": "execute_result"
    }
   ],
   "source": [
    "features[4]"
   ]
  },
  {
   "cell_type": "markdown",
   "metadata": {
    "id": "A7fs-B8CNein"
   },
   "source": [
    "### Write a code/function to get the labels of a sentence"
   ]
  },
  {
   "cell_type": "code",
   "execution_count": 20,
   "metadata": {
    "id": "tiA-A_ws8I8-"
   },
   "outputs": [],
   "source": [
    "# Write a code to get the labels for a sentence.\n",
    "def getLabelsInListForOneSentence(labels):\n",
    "  return labels.split()"
   ]
  },
  {
   "cell_type": "code",
   "execution_count": 21,
   "metadata": {
    "colab": {
     "base_uri": "https://localhost:8080/"
    },
    "id": "tgJM7avHesRP",
    "outputId": "876125f7-e4a9-48f7-9620-4349b55df8cc"
   },
   "outputs": [
    {
     "name": "stdout",
     "output_type": "stream",
     "text": [
      "['O', 'O', 'O', 'O', 'O', 'O', 'O', 'O', 'O', 'O', 'O', 'O', 'O', 'O', 'O', 'O', 'O', 'O', 'O', 'O', 'O', 'O', 'O', 'O']\n"
     ]
    }
   ],
   "source": [
    "# Checking label extraction\n",
    "example_labels = getLabelsInListForOneSentence(train_labels[5])\n",
    "print(example_labels)"
   ]
  },
  {
   "cell_type": "markdown",
   "metadata": {
    "id": "QG6hYY6rNjS8"
   },
   "source": [
    "## Define input and target variables\n"
   ]
  },
  {
   "cell_type": "code",
   "execution_count": 22,
   "metadata": {
    "id": "8Nuz-MjW8LWm"
   },
   "outputs": [],
   "source": [
    "X_train = [getFeaturesForOneSentence(sentence) for sentence in train_sentences]\n",
    "X_test = [getFeaturesForOneSentence(sentence) for sentence in test_sentences]"
   ]
  },
  {
   "cell_type": "code",
   "execution_count": 23,
   "metadata": {
    "id": "HrzLkWs0Nvx4"
   },
   "outputs": [],
   "source": [
    "Y_train = [getLabelsInListForOneSentence(labels) for labels in train_labels]\n",
    "Y_test = [getLabelsInListForOneSentence(labels) for labels in test_labels]"
   ]
  },
  {
   "cell_type": "markdown",
   "metadata": {
    "id": "YrIAz8gqN_Js"
   },
   "source": [
    "## Build the CRF Model"
   ]
  },
  {
   "cell_type": "code",
   "execution_count": 36,
   "metadata": {
    "colab": {
     "base_uri": "https://localhost:8080/"
    },
    "id": "k2oGSiqQ8Otd",
    "outputId": "6a7fdccf-f6ba-47fe-ef62-38c5f9a83d3a"
   },
   "outputs": [],
   "source": [
    "# Building the CRF model. Using max_iterations as 200.\n",
    "crf = sklearn_crfsuite.CRF(max_iterations=300)\n",
    "\n",
    "try:\n",
    "    crf.fit(X_train, Y_train)\n",
    "except AttributeError:\n",
    "    pass"
   ]
  },
  {
   "cell_type": "markdown",
   "metadata": {
    "id": "5VPFrPZJOJMq"
   },
   "source": [
    "## Evaluation"
   ]
  },
  {
   "cell_type": "code",
   "execution_count": 37,
   "metadata": {
    "id": "D_sDJs1n8-sI"
   },
   "outputs": [],
   "source": [
    "Y_pred = crf.predict(X_test)"
   ]
  },
  {
   "cell_type": "code",
   "execution_count": 38,
   "metadata": {
    "colab": {
     "base_uri": "https://localhost:8080/"
    },
    "id": "Lr_JNIgrOTcr",
    "outputId": "9d57d19e-018b-4d3e-8fb9-62c37ac7df57"
   },
   "outputs": [
    {
     "data": {
      "text/plain": [
       "0.908051252636922"
      ]
     },
     "execution_count": 38,
     "metadata": {},
     "output_type": "execute_result"
    }
   ],
   "source": [
    "metrics.flat_f1_score(Y_test, Y_pred, average='weighted')"
   ]
  },
  {
   "cell_type": "markdown",
   "metadata": {
    "id": "q7MOUH9I7c2q"
   },
   "source": [
    "- An f1-score of nearly 91% is fairly decent.\n",
    "- We shall proceed with this CRF model."
   ]
  },
  {
   "cell_type": "code",
   "execution_count": 39,
   "metadata": {
    "colab": {
     "base_uri": "https://localhost:8080/"
    },
    "id": "cvSkRYLexE8S",
    "outputId": "50f2ffef-4943-4bc7-f676-0eaf56e2b391"
   },
   "outputs": [
    {
     "name": "stdout",
     "output_type": "stream",
     "text": [
      "Sentence:  The objective of this study was to determine if the rate of preeclampsia is increased in triplet as compared to twin gestations\n",
      "Actual labels:     ['O', 'O', 'O', 'O', 'O', 'O', 'O', 'O', 'O', 'O', 'O', 'O', 'D', 'O', 'O', 'O', 'O', 'O', 'O', 'O', 'O', 'O']\n",
      "Predicted labels:  ['O', 'O', 'O', 'O', 'O', 'O', 'O', 'O', 'O', 'O', 'O', 'O', 'D', 'O', 'O', 'O', 'O', 'O', 'O', 'O', 'O', 'O']\n"
     ]
    }
   ],
   "source": [
    "# Example test sentence and corresponding actual and predicted labels \n",
    "print(\"Sentence: \",test_sentences[13])\n",
    "print(\"Actual labels:    \", Y_test[13])\n",
    "print(\"Predicted labels: \", Y_pred[13])"
   ]
  },
  {
   "cell_type": "code",
   "execution_count": 40,
   "metadata": {
    "colab": {
     "base_uri": "https://localhost:8080/"
    },
    "id": "TlM79P6FxP_S",
    "outputId": "e18c5cd6-8796-4216-d58c-e568d9109220"
   },
   "outputs": [
    {
     "name": "stdout",
     "output_type": "stream",
     "text": [
      "[['word.lower=the', 'word.postag=NOUN', 'word[-3:]=The', 'word[-2:]=he', 'word.isupper=False', 'word.isdigit=False', 'words.startsWithCapital=True', 'BEG'], ['word.lower=objective', 'word.postag=NOUN', 'word[-3:]=ive', 'word[-2:]=ve', 'word.isupper=False', 'word.isdigit=False', 'words.startsWithCapital=False', 'prev_word.lower=the', 'prev_word.postag=NOUN', 'prev_word.isupper=False', 'prev_word.isdigit=False', 'prev_words.startsWithCapital=True'], ['word.lower=of', 'word.postag=NOUN', 'word[-3:]=of', 'word[-2:]=of', 'word.isupper=False', 'word.isdigit=False', 'words.startsWithCapital=False', 'prev_word.lower=objective', 'prev_word.postag=NOUN', 'prev_word.isupper=False', 'prev_word.isdigit=False', 'prev_words.startsWithCapital=False'], ['word.lower=this', 'word.postag=NOUN', 'word[-3:]=his', 'word[-2:]=is', 'word.isupper=False', 'word.isdigit=False', 'words.startsWithCapital=False', 'prev_word.lower=of', 'prev_word.postag=NOUN', 'prev_word.isupper=False', 'prev_word.isdigit=False', 'prev_words.startsWithCapital=False'], ['word.lower=study', 'word.postag=NOUN', 'word[-3:]=udy', 'word[-2:]=dy', 'word.isupper=False', 'word.isdigit=False', 'words.startsWithCapital=False', 'prev_word.lower=this', 'prev_word.postag=NOUN', 'prev_word.isupper=False', 'prev_word.isdigit=False', 'prev_words.startsWithCapital=False'], ['word.lower=was', 'word.postag=NOUN', 'word[-3:]=was', 'word[-2:]=as', 'word.isupper=False', 'word.isdigit=False', 'words.startsWithCapital=False', 'prev_word.lower=study', 'prev_word.postag=NOUN', 'prev_word.isupper=False', 'prev_word.isdigit=False', 'prev_words.startsWithCapital=False'], ['word.lower=to', 'word.postag=NOUN', 'word[-3:]=to', 'word[-2:]=to', 'word.isupper=False', 'word.isdigit=False', 'words.startsWithCapital=False', 'prev_word.lower=was', 'prev_word.postag=NOUN', 'prev_word.isupper=False', 'prev_word.isdigit=False', 'prev_words.startsWithCapital=False'], ['word.lower=determine', 'word.postag=NOUN', 'word[-3:]=ine', 'word[-2:]=ne', 'word.isupper=False', 'word.isdigit=False', 'words.startsWithCapital=False', 'prev_word.lower=to', 'prev_word.postag=NOUN', 'prev_word.isupper=False', 'prev_word.isdigit=False', 'prev_words.startsWithCapital=False'], ['word.lower=if', 'word.postag=NOUN', 'word[-3:]=if', 'word[-2:]=if', 'word.isupper=False', 'word.isdigit=False', 'words.startsWithCapital=False', 'prev_word.lower=determine', 'prev_word.postag=NOUN', 'prev_word.isupper=False', 'prev_word.isdigit=False', 'prev_words.startsWithCapital=False'], ['word.lower=the', 'word.postag=NOUN', 'word[-3:]=the', 'word[-2:]=he', 'word.isupper=False', 'word.isdigit=False', 'words.startsWithCapital=False', 'prev_word.lower=if', 'prev_word.postag=NOUN', 'prev_word.isupper=False', 'prev_word.isdigit=False', 'prev_words.startsWithCapital=False'], ['word.lower=rate', 'word.postag=NOUN', 'word[-3:]=ate', 'word[-2:]=te', 'word.isupper=False', 'word.isdigit=False', 'words.startsWithCapital=False', 'prev_word.lower=the', 'prev_word.postag=NOUN', 'prev_word.isupper=False', 'prev_word.isdigit=False', 'prev_words.startsWithCapital=False'], ['word.lower=of', 'word.postag=NOUN', 'word[-3:]=of', 'word[-2:]=of', 'word.isupper=False', 'word.isdigit=False', 'words.startsWithCapital=False', 'prev_word.lower=rate', 'prev_word.postag=NOUN', 'prev_word.isupper=False', 'prev_word.isdigit=False', 'prev_words.startsWithCapital=False'], ['word.lower=preeclampsia', 'word.postag=NOUN', 'word[-3:]=sia', 'word[-2:]=ia', 'word.isupper=False', 'word.isdigit=False', 'words.startsWithCapital=False', 'prev_word.lower=of', 'prev_word.postag=NOUN', 'prev_word.isupper=False', 'prev_word.isdigit=False', 'prev_words.startsWithCapital=False'], ['word.lower=is', 'word.postag=NOUN', 'word[-3:]=is', 'word[-2:]=is', 'word.isupper=False', 'word.isdigit=False', 'words.startsWithCapital=False', 'prev_word.lower=preeclampsia', 'prev_word.postag=NOUN', 'prev_word.isupper=False', 'prev_word.isdigit=False', 'prev_words.startsWithCapital=False'], ['word.lower=increased', 'word.postag=NOUN', 'word[-3:]=sed', 'word[-2:]=ed', 'word.isupper=False', 'word.isdigit=False', 'words.startsWithCapital=False', 'prev_word.lower=is', 'prev_word.postag=NOUN', 'prev_word.isupper=False', 'prev_word.isdigit=False', 'prev_words.startsWithCapital=False'], ['word.lower=in', 'word.postag=NOUN', 'word[-3:]=in', 'word[-2:]=in', 'word.isupper=False', 'word.isdigit=False', 'words.startsWithCapital=False', 'prev_word.lower=increased', 'prev_word.postag=NOUN', 'prev_word.isupper=False', 'prev_word.isdigit=False', 'prev_words.startsWithCapital=False'], ['word.lower=triplet', 'word.postag=NOUN', 'word[-3:]=let', 'word[-2:]=et', 'word.isupper=False', 'word.isdigit=False', 'words.startsWithCapital=False', 'prev_word.lower=in', 'prev_word.postag=NOUN', 'prev_word.isupper=False', 'prev_word.isdigit=False', 'prev_words.startsWithCapital=False'], ['word.lower=as', 'word.postag=NOUN', 'word[-3:]=as', 'word[-2:]=as', 'word.isupper=False', 'word.isdigit=False', 'words.startsWithCapital=False', 'prev_word.lower=triplet', 'prev_word.postag=NOUN', 'prev_word.isupper=False', 'prev_word.isdigit=False', 'prev_words.startsWithCapital=False'], ['word.lower=compared', 'word.postag=NOUN', 'word[-3:]=red', 'word[-2:]=ed', 'word.isupper=False', 'word.isdigit=False', 'words.startsWithCapital=False', 'prev_word.lower=as', 'prev_word.postag=NOUN', 'prev_word.isupper=False', 'prev_word.isdigit=False', 'prev_words.startsWithCapital=False'], ['word.lower=to', 'word.postag=NOUN', 'word[-3:]=to', 'word[-2:]=to', 'word.isupper=False', 'word.isdigit=False', 'words.startsWithCapital=False', 'prev_word.lower=compared', 'prev_word.postag=NOUN', 'prev_word.isupper=False', 'prev_word.isdigit=False', 'prev_words.startsWithCapital=False'], ['word.lower=twin', 'word.postag=NOUN', 'word[-3:]=win', 'word[-2:]=in', 'word.isupper=False', 'word.isdigit=False', 'words.startsWithCapital=False', 'prev_word.lower=to', 'prev_word.postag=NOUN', 'prev_word.isupper=False', 'prev_word.isdigit=False', 'prev_words.startsWithCapital=False'], ['word.lower=gestations', 'word.postag=NOUN', 'word[-3:]=ons', 'word[-2:]=ns', 'word.isupper=False', 'word.isdigit=False', 'words.startsWithCapital=False', 'prev_word.lower=twin', 'prev_word.postag=NOUN', 'prev_word.isupper=False', 'prev_word.isdigit=False', 'prev_words.startsWithCapital=False', 'END']]\n"
     ]
    }
   ],
   "source": [
    "# Feature list of sentence above\n",
    "print(X_test[13])"
   ]
  },
  {
   "cell_type": "markdown",
   "metadata": {
    "id": "ORDyDw6sYHf5"
   },
   "source": [
    "## Identifying Diseases and Treatments using Custom NER\n",
    "\n",
    "We now use the CRF model's prediction to prepare a record of diseases identified in the corpus and treatments used for the diseases.\n",
    "\n"
   ]
  },
  {
   "cell_type": "markdown",
   "metadata": {
    "id": "V9aOa7LEOcWu"
   },
   "source": [
    "### Create the logic to get all the predicted treatments (T) labels corresponding to each disease (D) label in the test dataset."
   ]
  },
  {
   "cell_type": "code",
   "execution_count": 41,
   "metadata": {
    "id": "6reMqClg97Ry"
   },
   "outputs": [],
   "source": [
    "# Extracting a dictionary of all the predicted diseases from our test data and the corresponding treatments.\n",
    "# Assumption: For each identified disease, one of the treatments is in the same sentence as the disease exists.\n",
    "disease_treatment = {}            # Initializing an empty dictionary\n",
    "for i in range(len(Y_pred)):\n",
    "    cnt_disease = 0           # Count of number of diseases mentioned in the sentence\n",
    "    cnt_treatment = 0         # Count of the number of treatments mentioned in the sentence\n",
    "    diseases = [\"\"]           # Initializing a blank list of diseases for current sentence.\n",
    "    treatment = [\"\"]          # Initializing a blank list of treatments for current sentence.\n",
    "    length = len(Y_pred[i])   # Length of current sentence.\n",
    "    for j in range(length):\n",
    "        if (Y_pred[i][j] == 'D'):                                                     # Checking for label indicating disease for current word ('D')\n",
    "            diseases[cnt_disease] += (X_test[i][j][0].split('=')[1] + \" \")            # Adding word to diseases list.\n",
    "            if j < length - 1:\n",
    "                if (Y_pred[i][j+1] != 'D'):                                           # Check for name of disease extending over multiple words. \n",
    "                    # If next word does not have label 'D', then truncate the space added at the end of the last word.\n",
    "                    diseases[cnt_disease] = diseases[cnt_disease][:-1]\n",
    "                    cnt_disease += 1\n",
    "                    diseases.append(\"\")                                               # Adding a placeholder for the next disease in the current sentence.\n",
    "            else:\n",
    "                diseases[cnt_disease] = diseases[cnt_disease][:-1]\n",
    "                cnt_disease += 1\n",
    "                diseases.append(\"\")\n",
    "                            \n",
    "        if (Y_pred[i][j] == 'T'):                                                     # Checking for label indicating treatment for current word ('T')\n",
    "            treatment[cnt_treatment] += (X_test[i][j][0].split('=')[1] + \" \") # Adding word to corresponding treatment list.\n",
    "            if j < length - 1:\n",
    "                if (Y_pred[i][j+1] != 'T'):                                           # Check for name of treatment extending over multiple words. \n",
    "                    # If next word does not have label 'T', then truncate the space added at the end of the last word.\n",
    "                    treatment[cnt_treatment] = treatment[cnt_treatment][:-1]\n",
    "                    cnt_treatment += 1\n",
    "                    treatment.append(\"\")                                              # Adding a placeholder for the next treatment in the current sentence.\n",
    "            else:\n",
    "                treatment[cnt_treatment] = treatment[cnt_treatment][:-1]\n",
    "                cnt_treatment += 1\n",
    "                treatment.append(\"\")\n",
    "\n",
    "    diseases.pop(-1)    # Getting rid of the last empty placeholder in diseases list\n",
    "    treatment.pop(-1)   # Getting rid of the last empty placeholder in treatments list\n",
    "\n",
    "    # To our dictionary, add or append treatments to the diseases identified from the current sentence, if any.\n",
    "    if len(diseases) > 0:       # Checking if any diseases have been identified for the current sentence.\n",
    "        for disease in diseases:\n",
    "            if disease in disease_treatment.keys():\n",
    "                # Extend treatment list if other treatments for the particular disease already exist\n",
    "                disease_treatment[disease].extend(treatment)\n",
    "            else:\n",
    "                # Creating list of treatments for particular disease if it doesn not exist already.\n",
    "                disease_treatment[disease] = treatment"
   ]
  },
  {
   "cell_type": "code",
   "execution_count": 42,
   "metadata": {
    "colab": {
     "base_uri": "https://localhost:8080/"
    },
    "id": "J8H8-WzhEbk6",
    "outputId": "a951ddee-cd6d-4f3a-b6ba-152dd4228b55"
   },
   "outputs": [
    {
     "data": {
      "text/plain": [
       "{'gestational diabetes cases': [],\n",
       " 'preeclampsia': [],\n",
       " 'severe preeclampsia': [],\n",
       " 'asymmetric double hemiplegia': [],\n",
       " 'reversible nonimmune hydrops fetalis': [],\n",
       " 'breast and/or ovarian cancer': [],\n",
       " 'breast cancer': ['hormone replacement therapy',\n",
       "  'undergone subcutaneous mastectomy'],\n",
       " 'ovarian cancer': ['hormone replacement therapy',\n",
       "  'undergone subcutaneous mastectomy'],\n",
       " 'prostate cancer': ['radical prostatectomy and iodine 125 interstitial radiotherapy'],\n",
       " 'mutated prostate cancer': ['radical prostatectomy and iodine 125 interstitial radiotherapy'],\n",
       " 'hereditary prostate cancer': [],\n",
       " 'multiple sclerosis ( ms )': [],\n",
       " 'hereditary retinoblastoma': ['radiotherapy'],\n",
       " 'epilepsy': [],\n",
       " 'unstable angina or non-q-wave myocardial infarction': ['roxithromycin'],\n",
       " 'coronary-artery disease': ['antichlamydial antibiotics'],\n",
       " 'early-stage cervical carcinoma': [],\n",
       " 'advanced disease': [],\n",
       " 'cerebral palsy': ['hyperbaric oxygen therapy'],\n",
       " 'severe pain': [],\n",
       " 'myofascial trigger point pain': [],\n",
       " 'infections': [],\n",
       " 'primary pulmonary hypertension ( pph )': ['fenfluramines'],\n",
       " 'essential hypertension': [],\n",
       " 'osteoporosis among older persons': [],\n",
       " 'foot infections': [],\n",
       " 'cellulitis': ['g-csf therapy', 'intravenous antibiotic treatment'],\n",
       " 'foot infection': ['g-csf treatment'],\n",
       " 'hemorrhagic stroke': [],\n",
       " 'cardiac disease': [],\n",
       " 'rheumatoid arthritis': [],\n",
       " 'stroke victims': [],\n",
       " \"early parkinson 's disease\": ['ropinirole monotherapy'],\n",
       " 'sore throat': ['antibiotics'],\n",
       " 'upper respiratory conditions': [],\n",
       " 'sore throat increase reattendance': [],\n",
       " 'postoperative pain relief': [],\n",
       " 'analgesia when equianalgesic doses': [],\n",
       " 'chronic neutropenia': [],\n",
       " 'female stress urinary incontinence': ['surgical treatment'],\n",
       " 'stress urinary incontinence': ['therapy'],\n",
       " 'corpal gastritis': [],\n",
       " 'preeclampsia ( proteinuric hypertension )': ['intrauterine insemination with donor sperm versus intrauterine insemination'],\n",
       " 'mild preeclampsia': [],\n",
       " 'myocardial amyloidosis': [],\n",
       " 'heart failure': [],\n",
       " 'amyloidosis': [],\n",
       " 'cardiac amyloid heart disease': [],\n",
       " 'retinopathy': [],\n",
       " 'intra-abdominal injury': [],\n",
       " 'tangential gunshot wounds': [],\n",
       " 'intra-abdominal hemorrhage': [],\n",
       " 'severe acquired hyperammonemia': ['organ transplantation and chemotherapy',\n",
       "  'matrix metalloproteinase inhibitors'],\n",
       " 'cancer': ['organ transplantation and chemotherapy',\n",
       "  'matrix metalloproteinase inhibitors'],\n",
       " 'major pulmonary embolism': ['thrombolytic treatment'],\n",
       " 'congestive heart failure': [],\n",
       " 'chronic pulmonary disease': [],\n",
       " 'malignant pleural mesothelioma': ['thoracotomy , radiotherapy , and chemotherapy'],\n",
       " 'additional edema': [],\n",
       " 'dyskinesias': [],\n",
       " 'darier disease': [],\n",
       " 'tumor necrosis factor-alpha': [],\n",
       " 'syndrome of hemorrhagic shock and encephalopathy': [],\n",
       " 'tss': [],\n",
       " 'pulmonary symptoms attributable': ['chemotherapy'],\n",
       " 'non-obstructive azoospermia': ['testicular sperm retrieval by testicular fine needle aspiration ( tefna )',\n",
       "  'open biopsy and testicular sperm extraction ( tese )'],\n",
       " 'mantle cell lymphoma': [],\n",
       " 'acute lymphoblastic leukaemias': [],\n",
       " 'endometriosis': [],\n",
       " 'hyperlipidemias': [],\n",
       " 'deep vein thrombosis ( dvt )': [],\n",
       " 'hepatocerebral degeneration ( portal systemic encephalopathy )': [],\n",
       " 'mastitis': [],\n",
       " 'cervical carcinoma': [],\n",
       " 'duodenal ulcer': [],\n",
       " 'childhood schizophrenia': [],\n",
       " 'congenital adrenal hyperplasia': [],\n",
       " \"laennec 's cirrhosis\": [],\n",
       " 'renal stones': [],\n",
       " 'stone disease': [],\n",
       " 'congenital anomalies': [],\n",
       " 'ovarian carcinoma': [],\n",
       " 'heart congestive failure': [],\n",
       " 'biliary indication': [],\n",
       " 'piglet influenza': [],\n",
       " 'chronic progressive external ophthalmoplegia': [],\n",
       " 'cystic periventricular leukomalacia': [],\n",
       " 'metastasis of laryngeal carcinomas': [],\n",
       " 'hiv infection': [],\n",
       " 'graft spasm': [],\n",
       " 'renal dysfunction': [],\n",
       " 'colorectal cancer': ['elective surgery',\n",
       "  'docosahexanoic acid ( dha ) -concentrated fish oil'],\n",
       " \"leukaemia and non-hodgkin 's lymphoma\": [],\n",
       " 'childhood acute lymphoblastic leukaemia': [],\n",
       " 'gastrointestinal tumours': ['elective surgery'],\n",
       " 'chlamydia trachomatis': [],\n",
       " 'anemia of end-stage renal disease': [],\n",
       " 'malignant lymphomas': [],\n",
       " 'polymyalgia rheumatica and temporal arteritis': [],\n",
       " 'coronary heart disease': [],\n",
       " 'restenosis after coronary angioplasty': [],\n",
       " \"oral crohn 's disease\": [],\n",
       " 'progressive sensorineural hearing loss': [],\n",
       " 'gestational diabetes': [],\n",
       " 'bronchial asthma': [],\n",
       " 'disconnection syndrome': [],\n",
       " 'severe accidental hypothermia victims': [],\n",
       " 'hiv/aids': [],\n",
       " 'gunshot wounds': [],\n",
       " 'blastocystis hominis infection': [],\n",
       " 'multiple sclerosis': ['interferon beta treatment',\n",
       "  'intravenous immunoglobulin treatment'],\n",
       " 'does hyperglycemia really cause coronary heart disease': [],\n",
       " 'primary stomach lymphoma': [],\n",
       " 'systemic lupus erythematosus : mite dermatitis': [],\n",
       " 'lung cancer': [],\n",
       " 'metastatic malignant mesothelioma presenting as colonic polyps': [],\n",
       " \"parkinson 's disease\": ['microelectrode-guided posteroventral pallidotomy'],\n",
       " 'murine hepatitis virus strain 3 infection': [],\n",
       " 'synovial sarcoma': [],\n",
       " 'small cell lung cancer': [],\n",
       " 'acute respiratory distress syndrome': [],\n",
       " 'diabetes': [],\n",
       " 'chronic hepatitis': [],\n",
       " 'postraumatic stress disorder': [],\n",
       " 'kaposi sarcoma-associated herpesvirus infection': [],\n",
       " 'diabetes and hyperlipidemias': [],\n",
       " 'cardiac insufficiency': [],\n",
       " 'malignant soft tissue sarcomas': [],\n",
       " 'soft tissue sarcomas': ['radiotherapy'],\n",
       " 'intramedullary metastases of bronchogenic carcinoma': [],\n",
       " 'pseudo-lymphoma': [],\n",
       " 'auditory perception disorders due to bilateral cortical lesions': [],\n",
       " 'cerebral injuries': [],\n",
       " 'coronary endothelial dysfunction': [],\n",
       " 'myocardial perfusion defects': [],\n",
       " 'ectopic pregnancy': [],\n",
       " \"alzheimer 's disease\": [],\n",
       " \"eisenmenger 's syndrome\": ['laparoscopic cholecystectomy'],\n",
       " 'continuous ambulatory peritoneal dialysis': [],\n",
       " 'advanced esophageal cancer': ['adjuvant chemoradiotherapy with cddp'],\n",
       " 'sickle cell anemia': [],\n",
       " 'intractable seizures': [],\n",
       " 'new-onset angina preceding acute myocardial infarction': [],\n",
       " 'congenital bilateral aplasia': [],\n",
       " 'insulin-dependent diabetes mellitus': [],\n",
       " 'aids exceptionalism': [],\n",
       " 'myoepithelial carcinoma': [],\n",
       " 'pleomorphic adenoma': [],\n",
       " 'homocystinuria': [],\n",
       " 'malaria': [],\n",
       " 'severe psoriasis': [],\n",
       " 'leukemia': ['trisomy'],\n",
       " 'acute obstructive hydrocephalus complicating bacterial meningitis': [],\n",
       " 'refractory pouchitis': [],\n",
       " 'some malignant tumors such as non-small cell lung cancer': [],\n",
       " 'inoperable advanced malignancies such as colorectal cancer': ['combination with leucovorin or cisplatin'],\n",
       " 'advanced nsclc with manageable toxicities': [],\n",
       " 'recurrent cervical adenocarcinoma': [],\n",
       " 'influenza provides': [],\n",
       " 'influenza control': [],\n",
       " 'abdominal pain': [],\n",
       " 'pain': [],\n",
       " 'pleuritic pain': [],\n",
       " 'fungal infections': [],\n",
       " 'inflammatory skin diseases': ['topical corticosteroids'],\n",
       " 'unresectable stage iii nsclc': [],\n",
       " 'nsclc': ['got surgical treatment',\n",
       "  'radiotherapy',\n",
       "  'got surgical treatment',\n",
       "  'radiotherapy',\n",
       "  'platinum-based chemotherapy'],\n",
       " 'sclc': ['got surgical treatment',\n",
       "  'radiotherapy',\n",
       "  'got surgical treatment',\n",
       "  'radiotherapy',\n",
       "  'platinum-based chemotherapy'],\n",
       " 'acute rejection episode': ['therapy with extracorporeal photopheresis'],\n",
       " 'locally advanced non-small-cell lung cancer ( la-nsclc )': ['chemotherapy and radiotherapy )'],\n",
       " 'radiation-induced myelopathy': ['heparin and enoxaparin'],\n",
       " 'limited stage small cell lung cancer': ['vip combination chemotherapy and early concurrent thoracic irradiation'],\n",
       " 'malignant pleural effusions from nsclc': ['systemic chemotherapy'],\n",
       " 'small-cell lung cancer': ['chemotherapy', 'combination chemotherapy'],\n",
       " 'intraluminal early-stage cancer': [],\n",
       " 'pathologic stage i non-small cell lung cancer': [],\n",
       " 'supraclavicular node metastases in nsclc': ['chemoradiotherapy'],\n",
       " 'non-small-cell-lung-cancer ( nsclc )': ['cisplatin and radiotherapy'],\n",
       " 'esophageal cancer': [],\n",
       " 'lung cancer )': [],\n",
       " 'osteogenic sarcoma': [],\n",
       " 'lung carcinoma': ['videothoracoscopic lobectomy or partial resection',\n",
       "  'open thoracotomy'],\n",
       " 'stage 0 lung carcinoma': ['curative therapy'],\n",
       " 'melanoma': ['surgical resection'],\n",
       " 'ovarian carcinoma brain metastasis': ['surgical resection'],\n",
       " 'colorectal metastases': ['therapeutic vats metastasectomy'],\n",
       " 'limited-stage small-cell carcinoma': [],\n",
       " 'advanced nsclc': ['assessing combination chemotherapy of cisplatin , ifosfamide and irinotecan with rhg-csf support'],\n",
       " 'metastatic colorectal cancer': ['intravenous oxaliplatin'],\n",
       " 'platinum-pretreated ovarian cancer': ['oxaliplatin'],\n",
       " \"non-hodgkin 's lymphoma , breast cancer\": ['oxaliplatin'],\n",
       " 'mesothelioma and non-small cell lung cancer': ['oxaliplatin'],\n",
       " 'bronchogenic carcinoma': [],\n",
       " 'non-small cell lung cancer': ['combination with paclitaxel and carboplatin'],\n",
       " 'advanced hormone refractory prostate cancer': ['combination with paclitaxel and carboplatin'],\n",
       " 'primary lung cancer': ['resection'],\n",
       " 'adenocarcinoma': ['resection'],\n",
       " 'squamous cell carcinoma': ['resection'],\n",
       " 'stage iii nsclc': ['chemotherapy administered before surgery'],\n",
       " 'primary cancer': ['adjuvant radiation therapy', 'immunotherapy'],\n",
       " 'advanced non -- small-cell lung cancer': ['paclitaxel plus carboplatin ( pc )',\n",
       "  'vinorelbine plus cisplatin ( vc )'],\n",
       " 'extensive disease': ['platinum dose ( cisplatin plus carboplatin ) in combination chemotherapy',\n",
       "  'combination therapy with carboplatin alone'],\n",
       " 'untreated small cell lung cancer ( sclc )': [],\n",
       " 'untreated sclc': [],\n",
       " 'pulmonary hypertension': [],\n",
       " 'neutropenia during cancer': ['chemotherapy'],\n",
       " 'head and neck cancer': ['intravenous amifostine'],\n",
       " ' xerostomia': ['intravenous amifostine'],\n",
       " 'carbon monoxide poisoning': [],\n",
       " 'acute myocardial infarction': ['thrombolytic therapy'],\n",
       " 'psoriasis': ['topical application of active vitamin d3 analogue , 1 alpha , 24-dihydroxycholecalciferol'],\n",
       " 'disseminated malignant melanoma': ['leukocyte a recombinant interferon ( rifn-alpha'],\n",
       " 'advanced stage ( tnm iib-ivb ) mycosis fungoides': ['a combination chemotherapy program consisting of bleomycin and methotrexate weekly , doxorubicin every'],\n",
       " 'ventricular tachycardia': ['guiding surgical therapy'],\n",
       " 'cholestasis': [],\n",
       " 'severe acute hepatitis accompanying cholestasis': [],\n",
       " 'autoimmune hepatitis': [],\n",
       " 'spinal adhesive arachnoiditis': ['surgical management'],\n",
       " 'bronchiectasis': ['antibiotics and surgery', 'current surgical therapy'],\n",
       " 'biliary colic symptoms': ['cholecystectomy'],\n",
       " 'biliary dyskinesia': ['cholecystectomy'],\n",
       " 'the common cold': ['pseudoephedrine plus acetaminophen'],\n",
       " 'pulmonary aspergilloma': [],\n",
       " 'viral infections': [],\n",
       " 'asthma': ['fluticasone propionate', 'several inhaled corticosteroids'],\n",
       " 'pneumocystis carinii pneumonia': [],\n",
       " 'acute nasopharyngitis ( anp )': ['antibiotic treatment'],\n",
       " 'symptoms of a common cold': ['macrolide antibiotics'],\n",
       " 'rhinovirus colds': ['clarithromycin'],\n",
       " 'rhinovirus': ['clarithromycin'],\n",
       " 'acute exacerbation of chronic bronchitis': [],\n",
       " 'pneumonia': [],\n",
       " 'influenza': [],\n",
       " 'influenza a2 ( h2n2 ) virus': [],\n",
       " 'infection': ['a combination of omeprazole , amoxicillin , and clarithromycin'],\n",
       " 'carcinoma': [],\n",
       " 'persistent asthma': ['contemporary asthma management guidelines list inhaled corticosteroids'],\n",
       " 'chronic hepatitis c': ['combination therapy with interferon-alpha ( ifn alpha ) plus ribavirin'],\n",
       " 'hepatitis c viremia': ['combination therapy'],\n",
       " 'severe hypoxemia': ['glucocorticoid pulse therapy'],\n",
       " 'drug-resistant s. pneumoniae': [],\n",
       " 'bacterial meningitis': [],\n",
       " 'haemophilus influenzae meningitis': [],\n",
       " 'asthmatic bronchitis': [],\n",
       " 'rsv bronchiolitis': [],\n",
       " 'primary sclerosing cholangitis ( psc )': [],\n",
       " 'chronic renal failure': [],\n",
       " 'ischemic heart disease': [],\n",
       " 'peritoneal tumors': ['subcutaneous injection of irradiated llc-il2'],\n",
       " 'acute occlusion of the middle cerebral artery': ['thrombolytic therapy'],\n",
       " 'benign prostatic hyperplasia': [],\n",
       " 'rheumatic pain herbal': [],\n",
       " 'inflammatory and autoimmune diseases': ['high-dose intravenous immunoglobulin ( hdivig )'],\n",
       " 'large midline incisional hernias': [],\n",
       " 'low-grade nhl': [],\n",
       " 'large-bowel cancer': [],\n",
       " 'phaeochromocytoma': ['adrenalectomy'],\n",
       " 'malignant melanoma': ['interferon alfa-2a'],\n",
       " 'advanced renal cell carcinoma': ['various interferon alpha preparations',\n",
       "  'interferon alfa-n1 , interferon alfa-2a , and interferon alfa-2b'],\n",
       " \"low-grade non-hodgkin 's lymphoma\": ['interferon alpha'],\n",
       " \"low-grade non-hodgkin 's lymphomas\": [],\n",
       " 'chronic myelogenous leukemia ( cml )': [],\n",
       " 'partial seizures': ['lamotrigine ( ltg )', 'lamotrigine monotherapy'],\n",
       " 'esophageal achalasia': ['botulinum toxin injection , pneumatic dilation , and laparoscopic myotomy'],\n",
       " 'irritable bowel syndrome': ['chinese herbal medicine'],\n",
       " 'proximal hypospadias': ['tubularized incised plate hypospadias repair'],\n",
       " 'tumors': ['immunotherapy'],\n",
       " 'sickle cell disease': [],\n",
       " 'haematoma block versus intravenous regional anaesthesia': [],\n",
       " 'stroke': [],\n",
       " 'mitomycin-resistant bladder cancer': ['photodynamic therapy in combination with mitomycin c'],\n",
       " 'b16 melanoma': ['adenosine triphosphate and treatment with buthionine sulfoximine'],\n",
       " 'primary uveal melanoma': ['transpupillary thermotherapy'],\n",
       " 'advanced rectal cancer': [],\n",
       " 'noncirrhotic portal hypertension': [],\n",
       " 'midline incisional hernias': [],\n",
       " 'empyema': [],\n",
       " \"non-hodgkin 's lymphoma\": [],\n",
       " 'acute cerebral ischemia': ['antiplatelet therapy'],\n",
       " 'hyperopia': [],\n",
       " 'renal cell carcinoma': ['interferon treatment'],\n",
       " 'odontogenic infections': [],\n",
       " 'myocardial angiogenesis': ['gene therapy'],\n",
       " 'autoimmune hemolytic anemia': ['heparin'],\n",
       " 'epithelial ovarian cancer': ['high-dose chemotherapy'],\n",
       " 'atrial fibrillation': ['antiplatelet therapy'],\n",
       " 'diabetes mellitus': [],\n",
       " 'lymphoma': [],\n",
       " 'acute repetitive seizures': [],\n",
       " 'moderately symptomatic benign prostatic hyperplasia': ['surgical resection'],\n",
       " 'acoustic neuroma': ['stereotactic radiosurgery'],\n",
       " 'postvitrectomy diabetic vitreous hemorrhage': ['peripheral retinal cryotherapy'],\n",
       " 'acute carbon monoxide poisoning': [],\n",
       " 'hepatitis b': ['vaccine containing mf59'],\n",
       " 'temporomandibular joint arthropathy': [],\n",
       " 'acute colonic pseudo-obstruction': [],\n",
       " 'severe secondary peritonitis': ['surgical management'],\n",
       " 'hepatic metastases from colorectal cancer': ['hepatic arterial infusion of chemotherapy after resection'],\n",
       " 'severe diverticular hemorrhage': [],\n",
       " 'stable asthma': [],\n",
       " 'arthritis': [],\n",
       " 'live oral poliovirus vaccines': [],\n",
       " 'glaucoma': [],\n",
       " 'responsive multiple myeloma': []}"
      ]
     },
     "execution_count": 42,
     "metadata": {},
     "output_type": "execute_result"
    }
   ],
   "source": [
    "# Displaying dictionary of extracted diseases and potential treatments.\n",
    "disease_treatment"
   ]
  },
  {
   "cell_type": "code",
   "execution_count": 43,
   "metadata": {
    "colab": {
     "base_uri": "https://localhost:8080/"
    },
    "id": "lW_hrB4ENUZ3",
    "outputId": "99166d57-a73b-49a2-cbd7-34fb81c0349f"
   },
   "outputs": [
    {
     "data": {
      "text/plain": [
       "{'breast cancer': ['hormone replacement therapy',\n",
       "  'undergone subcutaneous mastectomy'],\n",
       " 'ovarian cancer': ['hormone replacement therapy',\n",
       "  'undergone subcutaneous mastectomy'],\n",
       " 'prostate cancer': ['radical prostatectomy and iodine 125 interstitial radiotherapy'],\n",
       " 'mutated prostate cancer': ['radical prostatectomy and iodine 125 interstitial radiotherapy'],\n",
       " 'hereditary retinoblastoma': ['radiotherapy'],\n",
       " 'unstable angina or non-q-wave myocardial infarction': ['roxithromycin'],\n",
       " 'coronary-artery disease': ['antichlamydial antibiotics'],\n",
       " 'cerebral palsy': ['hyperbaric oxygen therapy'],\n",
       " 'primary pulmonary hypertension ( pph )': ['fenfluramines'],\n",
       " 'cellulitis': ['g-csf therapy', 'intravenous antibiotic treatment'],\n",
       " 'foot infection': ['g-csf treatment'],\n",
       " \"early parkinson 's disease\": ['ropinirole monotherapy'],\n",
       " 'sore throat': ['antibiotics'],\n",
       " 'female stress urinary incontinence': ['surgical treatment'],\n",
       " 'stress urinary incontinence': ['therapy'],\n",
       " 'preeclampsia ( proteinuric hypertension )': ['intrauterine insemination with donor sperm versus intrauterine insemination'],\n",
       " 'severe acquired hyperammonemia': ['organ transplantation and chemotherapy',\n",
       "  'matrix metalloproteinase inhibitors'],\n",
       " 'cancer': ['organ transplantation and chemotherapy',\n",
       "  'matrix metalloproteinase inhibitors'],\n",
       " 'major pulmonary embolism': ['thrombolytic treatment'],\n",
       " 'malignant pleural mesothelioma': ['thoracotomy , radiotherapy , and chemotherapy'],\n",
       " 'pulmonary symptoms attributable': ['chemotherapy'],\n",
       " 'non-obstructive azoospermia': ['testicular sperm retrieval by testicular fine needle aspiration ( tefna )',\n",
       "  'open biopsy and testicular sperm extraction ( tese )'],\n",
       " 'colorectal cancer': ['elective surgery',\n",
       "  'docosahexanoic acid ( dha ) -concentrated fish oil'],\n",
       " 'gastrointestinal tumours': ['elective surgery'],\n",
       " 'multiple sclerosis': ['interferon beta treatment',\n",
       "  'intravenous immunoglobulin treatment'],\n",
       " \"parkinson 's disease\": ['microelectrode-guided posteroventral pallidotomy'],\n",
       " 'soft tissue sarcomas': ['radiotherapy'],\n",
       " \"eisenmenger 's syndrome\": ['laparoscopic cholecystectomy'],\n",
       " 'advanced esophageal cancer': ['adjuvant chemoradiotherapy with cddp'],\n",
       " 'leukemia': ['trisomy'],\n",
       " 'inoperable advanced malignancies such as colorectal cancer': ['combination with leucovorin or cisplatin'],\n",
       " 'inflammatory skin diseases': ['topical corticosteroids'],\n",
       " 'nsclc': ['got surgical treatment',\n",
       "  'radiotherapy',\n",
       "  'got surgical treatment',\n",
       "  'radiotherapy',\n",
       "  'platinum-based chemotherapy'],\n",
       " 'sclc': ['got surgical treatment',\n",
       "  'radiotherapy',\n",
       "  'got surgical treatment',\n",
       "  'radiotherapy',\n",
       "  'platinum-based chemotherapy'],\n",
       " 'acute rejection episode': ['therapy with extracorporeal photopheresis'],\n",
       " 'locally advanced non-small-cell lung cancer ( la-nsclc )': ['chemotherapy and radiotherapy )'],\n",
       " 'radiation-induced myelopathy': ['heparin and enoxaparin'],\n",
       " 'limited stage small cell lung cancer': ['vip combination chemotherapy and early concurrent thoracic irradiation'],\n",
       " 'malignant pleural effusions from nsclc': ['systemic chemotherapy'],\n",
       " 'small-cell lung cancer': ['chemotherapy', 'combination chemotherapy'],\n",
       " 'supraclavicular node metastases in nsclc': ['chemoradiotherapy'],\n",
       " 'non-small-cell-lung-cancer ( nsclc )': ['cisplatin and radiotherapy'],\n",
       " 'lung carcinoma': ['videothoracoscopic lobectomy or partial resection',\n",
       "  'open thoracotomy'],\n",
       " 'stage 0 lung carcinoma': ['curative therapy'],\n",
       " 'melanoma': ['surgical resection'],\n",
       " 'ovarian carcinoma brain metastasis': ['surgical resection'],\n",
       " 'colorectal metastases': ['therapeutic vats metastasectomy'],\n",
       " 'advanced nsclc': ['assessing combination chemotherapy of cisplatin , ifosfamide and irinotecan with rhg-csf support'],\n",
       " 'metastatic colorectal cancer': ['intravenous oxaliplatin'],\n",
       " 'platinum-pretreated ovarian cancer': ['oxaliplatin'],\n",
       " \"non-hodgkin 's lymphoma , breast cancer\": ['oxaliplatin'],\n",
       " 'mesothelioma and non-small cell lung cancer': ['oxaliplatin'],\n",
       " 'non-small cell lung cancer': ['combination with paclitaxel and carboplatin'],\n",
       " 'advanced hormone refractory prostate cancer': ['combination with paclitaxel and carboplatin'],\n",
       " 'primary lung cancer': ['resection'],\n",
       " 'adenocarcinoma': ['resection'],\n",
       " 'squamous cell carcinoma': ['resection'],\n",
       " 'stage iii nsclc': ['chemotherapy administered before surgery'],\n",
       " 'primary cancer': ['adjuvant radiation therapy', 'immunotherapy'],\n",
       " 'advanced non -- small-cell lung cancer': ['paclitaxel plus carboplatin ( pc )',\n",
       "  'vinorelbine plus cisplatin ( vc )'],\n",
       " 'extensive disease': ['platinum dose ( cisplatin plus carboplatin ) in combination chemotherapy',\n",
       "  'combination therapy with carboplatin alone'],\n",
       " 'neutropenia during cancer': ['chemotherapy'],\n",
       " 'head and neck cancer': ['intravenous amifostine'],\n",
       " ' xerostomia': ['intravenous amifostine'],\n",
       " 'acute myocardial infarction': ['thrombolytic therapy'],\n",
       " 'psoriasis': ['topical application of active vitamin d3 analogue , 1 alpha , 24-dihydroxycholecalciferol'],\n",
       " 'disseminated malignant melanoma': ['leukocyte a recombinant interferon ( rifn-alpha'],\n",
       " 'advanced stage ( tnm iib-ivb ) mycosis fungoides': ['a combination chemotherapy program consisting of bleomycin and methotrexate weekly , doxorubicin every'],\n",
       " 'ventricular tachycardia': ['guiding surgical therapy'],\n",
       " 'spinal adhesive arachnoiditis': ['surgical management'],\n",
       " 'bronchiectasis': ['antibiotics and surgery', 'current surgical therapy'],\n",
       " 'biliary colic symptoms': ['cholecystectomy'],\n",
       " 'biliary dyskinesia': ['cholecystectomy'],\n",
       " 'the common cold': ['pseudoephedrine plus acetaminophen'],\n",
       " 'asthma': ['fluticasone propionate', 'several inhaled corticosteroids'],\n",
       " 'acute nasopharyngitis ( anp )': ['antibiotic treatment'],\n",
       " 'symptoms of a common cold': ['macrolide antibiotics'],\n",
       " 'rhinovirus colds': ['clarithromycin'],\n",
       " 'rhinovirus': ['clarithromycin'],\n",
       " 'infection': ['a combination of omeprazole , amoxicillin , and clarithromycin'],\n",
       " 'persistent asthma': ['contemporary asthma management guidelines list inhaled corticosteroids'],\n",
       " 'chronic hepatitis c': ['combination therapy with interferon-alpha ( ifn alpha ) plus ribavirin'],\n",
       " 'hepatitis c viremia': ['combination therapy'],\n",
       " 'severe hypoxemia': ['glucocorticoid pulse therapy'],\n",
       " 'peritoneal tumors': ['subcutaneous injection of irradiated llc-il2'],\n",
       " 'acute occlusion of the middle cerebral artery': ['thrombolytic therapy'],\n",
       " 'inflammatory and autoimmune diseases': ['high-dose intravenous immunoglobulin ( hdivig )'],\n",
       " 'phaeochromocytoma': ['adrenalectomy'],\n",
       " 'malignant melanoma': ['interferon alfa-2a'],\n",
       " 'advanced renal cell carcinoma': ['various interferon alpha preparations',\n",
       "  'interferon alfa-n1 , interferon alfa-2a , and interferon alfa-2b'],\n",
       " \"low-grade non-hodgkin 's lymphoma\": ['interferon alpha'],\n",
       " 'partial seizures': ['lamotrigine ( ltg )', 'lamotrigine monotherapy'],\n",
       " 'esophageal achalasia': ['botulinum toxin injection , pneumatic dilation , and laparoscopic myotomy'],\n",
       " 'irritable bowel syndrome': ['chinese herbal medicine'],\n",
       " 'proximal hypospadias': ['tubularized incised plate hypospadias repair'],\n",
       " 'tumors': ['immunotherapy'],\n",
       " 'mitomycin-resistant bladder cancer': ['photodynamic therapy in combination with mitomycin c'],\n",
       " 'b16 melanoma': ['adenosine triphosphate and treatment with buthionine sulfoximine'],\n",
       " 'primary uveal melanoma': ['transpupillary thermotherapy'],\n",
       " 'acute cerebral ischemia': ['antiplatelet therapy'],\n",
       " 'renal cell carcinoma': ['interferon treatment'],\n",
       " 'myocardial angiogenesis': ['gene therapy'],\n",
       " 'autoimmune hemolytic anemia': ['heparin'],\n",
       " 'epithelial ovarian cancer': ['high-dose chemotherapy'],\n",
       " 'atrial fibrillation': ['antiplatelet therapy'],\n",
       " 'moderately symptomatic benign prostatic hyperplasia': ['surgical resection'],\n",
       " 'acoustic neuroma': ['stereotactic radiosurgery'],\n",
       " 'postvitrectomy diabetic vitreous hemorrhage': ['peripheral retinal cryotherapy'],\n",
       " 'hepatitis b': ['vaccine containing mf59'],\n",
       " 'severe secondary peritonitis': ['surgical management'],\n",
       " 'hepatic metastases from colorectal cancer': ['hepatic arterial infusion of chemotherapy after resection']}"
      ]
     },
     "execution_count": 43,
     "metadata": {},
     "output_type": "execute_result"
    }
   ],
   "source": [
    "# Obtaining a cleaned version of our \"disease_treatment\" dictionary\n",
    "cleaned_dict = {}\n",
    "for key in disease_treatment.keys():\n",
    "    if disease_treatment[key] != []:\n",
    "        cleaned_dict[key] = disease_treatment[key]\n",
    "cleaned_dict"
   ]
  },
  {
   "cell_type": "code",
   "execution_count": 44,
   "metadata": {
    "colab": {
     "base_uri": "https://localhost:8080/",
     "height": 204
    },
    "id": "w_TonOcVAG1P",
    "outputId": "6e144183-28a5-42b6-ecc1-1034e0bbb8d4"
   },
   "outputs": [
    {
     "data": {
      "text/html": [
       "<div>\n",
       "<style scoped>\n",
       "    .dataframe tbody tr th:only-of-type {\n",
       "        vertical-align: middle;\n",
       "    }\n",
       "\n",
       "    .dataframe tbody tr th {\n",
       "        vertical-align: top;\n",
       "    }\n",
       "\n",
       "    .dataframe thead th {\n",
       "        text-align: right;\n",
       "    }\n",
       "</style>\n",
       "<table border=\"1\" class=\"dataframe\">\n",
       "  <thead>\n",
       "    <tr style=\"text-align: right;\">\n",
       "      <th></th>\n",
       "      <th>Disease</th>\n",
       "      <th>Treatments</th>\n",
       "    </tr>\n",
       "  </thead>\n",
       "  <tbody>\n",
       "    <tr>\n",
       "      <th>0</th>\n",
       "      <td>breast cancer</td>\n",
       "      <td>[hormone replacement therapy, undergone subcut...</td>\n",
       "    </tr>\n",
       "    <tr>\n",
       "      <th>1</th>\n",
       "      <td>ovarian cancer</td>\n",
       "      <td>[hormone replacement therapy, undergone subcut...</td>\n",
       "    </tr>\n",
       "    <tr>\n",
       "      <th>2</th>\n",
       "      <td>prostate cancer</td>\n",
       "      <td>[radical prostatectomy and iodine 125 intersti...</td>\n",
       "    </tr>\n",
       "    <tr>\n",
       "      <th>3</th>\n",
       "      <td>mutated prostate cancer</td>\n",
       "      <td>[radical prostatectomy and iodine 125 intersti...</td>\n",
       "    </tr>\n",
       "    <tr>\n",
       "      <th>4</th>\n",
       "      <td>hereditary retinoblastoma</td>\n",
       "      <td>[radiotherapy]</td>\n",
       "    </tr>\n",
       "  </tbody>\n",
       "</table>\n",
       "</div>"
      ],
      "text/plain": [
       "                     Disease  \\\n",
       "0              breast cancer   \n",
       "1             ovarian cancer   \n",
       "2            prostate cancer   \n",
       "3    mutated prostate cancer   \n",
       "4  hereditary retinoblastoma   \n",
       "\n",
       "                                          Treatments  \n",
       "0  [hormone replacement therapy, undergone subcut...  \n",
       "1  [hormone replacement therapy, undergone subcut...  \n",
       "2  [radical prostatectomy and iodine 125 intersti...  \n",
       "3  [radical prostatectomy and iodine 125 intersti...  \n",
       "4                                     [radiotherapy]  "
      ]
     },
     "execution_count": 44,
     "metadata": {},
     "output_type": "execute_result"
    }
   ],
   "source": [
    "# Converting dictionary to a dataframe\n",
    "cleaned_df = pd.DataFrame({\"Disease\":cleaned_dict.keys(),\"Treatments\":cleaned_dict.values()})\n",
    "cleaned_df.head()"
   ]
  },
  {
   "cell_type": "markdown",
   "metadata": {
    "id": "TvTodSY5OfZ9"
   },
   "source": [
    "### Predict the treatment for the disease name: 'hereditary retinoblastoma'"
   ]
  },
  {
   "cell_type": "code",
   "execution_count": 45,
   "metadata": {
    "colab": {
     "base_uri": "https://localhost:8080/"
    },
    "id": "YeNQRLrIYRay",
    "outputId": "b039e623-97ae-48d4-bfb4-86a12b852a05"
   },
   "outputs": [
    {
     "name": "stdout",
     "output_type": "stream",
     "text": [
      "Treatments for 'hereditary retinoblastoma' is/are 'radiotherapy'\n"
     ]
    }
   ],
   "source": [
    "search_item = 'hereditary retinoblastoma'\n",
    "treatments = cleaned_dict[search_item]\n",
    "print(\"Treatments for '{0}' is/are \".format(search_item), end = \"\")\n",
    "for i in range(len(treatments)-1):\n",
    "    print(\"'{}'\".format(treatments[i]),\",\", end=\"\")\n",
    "print(\"'{}'\".format(treatments[-1]))"
   ]
  },
  {
   "cell_type": "code",
   "execution_count": null,
   "metadata": {},
   "outputs": [],
   "source": []
  }
 ],
 "metadata": {
  "colab": {
   "collapsed_sections": [],
   "name": "Siddhant_Pattanaik_NER_Healthcare_Data_Assignment.ipynb",
   "provenance": []
  },
  "kernelspec": {
   "display_name": "Python 3 (ipykernel)",
   "language": "python",
   "name": "python3"
  },
  "language_info": {
   "codemirror_mode": {
    "name": "ipython",
    "version": 3
   },
   "file_extension": ".py",
   "mimetype": "text/x-python",
   "name": "python",
   "nbconvert_exporter": "python",
   "pygments_lexer": "ipython3",
   "version": "3.11.4"
  }
 },
 "nbformat": 4,
 "nbformat_minor": 4
}
